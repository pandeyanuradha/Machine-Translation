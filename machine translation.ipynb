{
 "cells": [
  {
   "cell_type": "code",
   "execution_count": 3,
   "metadata": {},
   "outputs": [
    {
     "ename": "ModuleNotFoundError",
     "evalue": "No module named 'keras'",
     "output_type": "error",
     "traceback": [
      "\u001b[1;31m---------------------------------------------------------------------------\u001b[0m",
      "\u001b[1;31mModuleNotFoundError\u001b[0m                       Traceback (most recent call last)",
      "\u001b[1;32m<ipython-input-3-21eafa2d9464>\u001b[0m in \u001b[0;36m<module>\u001b[1;34m\u001b[0m\n\u001b[0;32m      3\u001b[0m \u001b[1;32mimport\u001b[0m \u001b[0mnumpy\u001b[0m \u001b[1;32mas\u001b[0m \u001b[0mnp\u001b[0m\u001b[1;33m\u001b[0m\u001b[1;33m\u001b[0m\u001b[0m\n\u001b[0;32m      4\u001b[0m \u001b[1;32mimport\u001b[0m \u001b[0mpandas\u001b[0m \u001b[1;32mas\u001b[0m \u001b[0mpd\u001b[0m\u001b[1;33m\u001b[0m\u001b[1;33m\u001b[0m\u001b[0m\n\u001b[1;32m----> 5\u001b[1;33m \u001b[1;32mfrom\u001b[0m \u001b[0mkeras\u001b[0m\u001b[1;33m.\u001b[0m\u001b[0mmodels\u001b[0m \u001b[1;32mimport\u001b[0m \u001b[0mSequential\u001b[0m\u001b[1;33m\u001b[0m\u001b[1;33m\u001b[0m\u001b[0m\n\u001b[0m\u001b[0;32m      6\u001b[0m \u001b[1;32mfrom\u001b[0m \u001b[0mkeras\u001b[0m\u001b[1;33m.\u001b[0m\u001b[0mlayers\u001b[0m \u001b[1;32mimport\u001b[0m \u001b[0mDense\u001b[0m\u001b[1;33m,\u001b[0m \u001b[0mLSTM\u001b[0m\u001b[1;33m,\u001b[0m \u001b[0mEmbedding\u001b[0m\u001b[1;33m,\u001b[0m \u001b[0mRepeatVector\u001b[0m\u001b[1;33m\u001b[0m\u001b[1;33m\u001b[0m\u001b[0m\n\u001b[0;32m      7\u001b[0m \u001b[1;32mfrom\u001b[0m \u001b[0mkeras\u001b[0m\u001b[1;33m.\u001b[0m\u001b[0mpreprocessing\u001b[0m\u001b[1;33m.\u001b[0m\u001b[0mtext\u001b[0m \u001b[1;32mimport\u001b[0m \u001b[0mTokenizer\u001b[0m\u001b[1;33m\u001b[0m\u001b[1;33m\u001b[0m\u001b[0m\n",
      "\u001b[1;31mModuleNotFoundError\u001b[0m: No module named 'keras'"
     ]
    }
   ],
   "source": [
    "import string\n",
    "import re\n",
    "import numpy as np\n",
    "import pandas as pd\n",
    "from keras.models import Sequential\n",
    "from keras.layers import Dense, LSTM, Embedding, RepeatVector\n",
    "from keras.preprocessing.text import Tokenizer\n",
    "from keras.callbacks import ModelCheckpoint\n",
    "from keras.preprocessing.sequence import pad_sequences\n",
    "from keras.models import load_model\n",
    "from keras import optimizers\n",
    "import matplotlib.pyplot as plt\n",
    "%matplotlib inline\n",
    "pd.set_option('display.max_colwidth', 200)"
   ]
  },
  {
   "cell_type": "code",
   "execution_count": null,
   "metadata": {},
   "outputs": [],
   "source": []
  },
  {
   "cell_type": "code",
   "execution_count": 2,
   "metadata": {},
   "outputs": [],
   "source": [
    "def read_text(filename):\n",
    "        # open the file\n",
    "        file = open(filename, mode='rt', encoding='utf-8')\n",
    "        \n",
    "        # read all text\n",
    "        text = file.read()\n",
    "        file.close()\n",
    "        return text"
   ]
  },
  {
   "cell_type": "code",
   "execution_count": 3,
   "metadata": {},
   "outputs": [],
   "source": [
    "def to_lines(text):\n",
    "    sents = text.strip().split('\\n')\n",
    "    sents = [i.split('\\t') for i in sents]\n",
    "    return sents"
   ]
  },
  {
   "cell_type": "code",
   "execution_count": 4,
   "metadata": {},
   "outputs": [],
   "source": [
    "data = read_text(\"hin.txt\")\n",
    "data = to_lines(data)\n",
    "data=np.array(data)"
   ]
  },
  {
   "cell_type": "code",
   "execution_count": 5,
   "metadata": {},
   "outputs": [],
   "source": [
    "data=data.tolist()"
   ]
  },
  {
   "cell_type": "code",
   "execution_count": 6,
   "metadata": {},
   "outputs": [],
   "source": [
    "df=[data[i][:2] for i in range(len(data))]"
   ]
  },
  {
   "cell_type": "code",
   "execution_count": 7,
   "metadata": {},
   "outputs": [],
   "source": [
    "df=np.array(df)"
   ]
  },
  {
   "cell_type": "code",
   "execution_count": 8,
   "metadata": {},
   "outputs": [
    {
     "data": {
      "text/plain": [
       "array([['Wow!', 'वाह!'],\n",
       "       ['Help!', 'बचाओ!'],\n",
       "       ['Jump.', 'उछलो.'],\n",
       "       ['Jump.', 'कूदो.'],\n",
       "       ['Jump.', 'छलांग.'],\n",
       "       ['Hello!', 'नमस्ते।'],\n",
       "       ['Hello!', 'नमस्कार।'],\n",
       "       ['Cheers!', 'वाह-वाह!'],\n",
       "       ['Cheers!', 'चियर्स!'],\n",
       "       ['Got it?', 'समझे कि नहीं?']], dtype='<U121')"
      ]
     },
     "execution_count": 8,
     "metadata": {},
     "output_type": "execute_result"
    }
   ],
   "source": [
    "df[:10]"
   ]
  },
  {
   "cell_type": "code",
   "execution_count": 9,
   "metadata": {},
   "outputs": [
    {
     "data": {
      "text/plain": [
       "(2774, 2)"
      ]
     },
     "execution_count": 9,
     "metadata": {},
     "output_type": "execute_result"
    }
   ],
   "source": [
    "df.shape"
   ]
  },
  {
   "cell_type": "code",
   "execution_count": 10,
   "metadata": {},
   "outputs": [
    {
     "data": {
      "text/plain": [
       "array(['Wow!', 'Help!', 'Jump.', ...,\n",
       "       'Democracy is the worst form of government, except all the others that have been tried.',\n",
       "       'If my boy had not been killed in the traffic accident, he would be a college student now.',\n",
       "       \"When I was a kid, touching bugs didn't bother me a bit. Now I can hardly stand looking at pictures of them.\"],\n",
       "      dtype='<U121')"
      ]
     },
     "execution_count": 10,
     "metadata": {},
     "output_type": "execute_result"
    }
   ],
   "source": [
    "df[:,0]"
   ]
  },
  {
   "cell_type": "code",
   "execution_count": 11,
   "metadata": {},
   "outputs": [
    {
     "data": {
      "text/plain": [
       "array(['वाह!', 'बचाओ!', 'उछलो.', ...,\n",
       "       'लोकतंत्र सरकार का सबसे घिनौना रूप है, अगर बाकी सारी तरह की सरकारों को अंदेखा किया जाए तो।',\n",
       "       'अगर मेरा बेटा ट्रेफ़िक हादसे में नहीं मारा गया होता, तो वह अभी कॉलेज जा रहा होता।',\n",
       "       'जब मैं बच्चा था, मुझे कीड़ों को छूने से कोई परेशानी नहीं होती थी, पर अब मैं उनकी तस्वीरें देखना भी बर्दाश्त नहीं कर सकता।'],\n",
       "      dtype='<U121')"
      ]
     },
     "execution_count": 11,
     "metadata": {},
     "output_type": "execute_result"
    }
   ],
   "source": [
    "df[:,1]"
   ]
  },
  {
   "cell_type": "code",
   "execution_count": 12,
   "metadata": {},
   "outputs": [],
   "source": [
    "df[:,0] = [s.translate(str.maketrans('', '', string.punctuation)) for s in df[:,0]]\n",
    "df[:,1] = [s.translate(str.maketrans('', '', string.punctuation)) for s in df[:,1]]"
   ]
  },
  {
   "cell_type": "code",
   "execution_count": 13,
   "metadata": {},
   "outputs": [
    {
     "data": {
      "text/plain": [
       "array([['Wow', 'वाह'],\n",
       "       ['Help', 'बचाओ'],\n",
       "       ['Jump', 'उछलो'],\n",
       "       ['Jump', 'कूदो'],\n",
       "       ['Jump', 'छलांग'],\n",
       "       ['Hello', 'नमस्ते।'],\n",
       "       ['Hello', 'नमस्कार।'],\n",
       "       ['Cheers', 'वाहवाह'],\n",
       "       ['Cheers', 'चियर्स'],\n",
       "       ['Got it', 'समझे कि नहीं']], dtype='<U121')"
      ]
     },
     "execution_count": 13,
     "metadata": {},
     "output_type": "execute_result"
    }
   ],
   "source": [
    "df[:10]"
   ]
  },
  {
   "cell_type": "code",
   "execution_count": 14,
   "metadata": {},
   "outputs": [],
   "source": [
    "for i in range(len(df)):\n",
    "    df[i,0] = df[i,0].lower()"
   ]
  },
  {
   "cell_type": "code",
   "execution_count": 15,
   "metadata": {},
   "outputs": [
    {
     "data": {
      "text/plain": [
       "array([['wow', 'वाह'],\n",
       "       ['help', 'बचाओ'],\n",
       "       ['jump', 'उछलो'],\n",
       "       ['jump', 'कूदो'],\n",
       "       ['jump', 'छलांग'],\n",
       "       ['hello', 'नमस्ते।'],\n",
       "       ['hello', 'नमस्कार।'],\n",
       "       ['cheers', 'वाहवाह'],\n",
       "       ['cheers', 'चियर्स'],\n",
       "       ['got it', 'समझे कि नहीं']], dtype='<U121')"
      ]
     },
     "execution_count": 15,
     "metadata": {},
     "output_type": "execute_result"
    }
   ],
   "source": [
    "df[:10]"
   ]
  },
  {
   "cell_type": "code",
   "execution_count": 16,
   "metadata": {},
   "outputs": [
    {
     "data": {
      "image/png": "[encoded data removed]",
      "text/plain": [
       "<Figure size 432x288 with 2 Axes>"
      ]
     },
     "metadata": {
      "needs_background": "light"
     },
     "output_type": "display_data"
    }
   ],
   "source": [
    "engl = []\n",
    "hindi = []\n",
    "\n",
    "# populate the lists with sentence lengths\n",
    "for i in df[:,0]:\n",
    "      engl.append(len(i.split()))\n",
    "\n",
    "for i in df[:,1]:\n",
    "      hindi.append(len(i.split()))\n",
    "\n",
    "length_df = pd.DataFrame({'eng':engl, 'hin':hindi})\n",
    "\n",
    "length_df.hist(bins = 30)\n",
    "plt.show()"
   ]
  },
  {
   "cell_type": "code",
   "execution_count": 17,
   "metadata": {},
   "outputs": [
    {
     "data": {
      "text/html": [
       "<div>\n",
       "<style scoped>\n",
       "    .dataframe tbody tr th:only-of-type {\n",
       "        vertical-align: middle;\n",
       "    }\n",
       "\n",
       "    .dataframe tbody tr th {\n",
       "        vertical-align: top;\n",
       "    }\n",
       "\n",
       "    .dataframe thead th {\n",
       "        text-align: right;\n",
       "    }\n",
       "</style>\n",
       "<table border=\"1\" class=\"dataframe\">\n",
       "  <thead>\n",
       "    <tr style=\"text-align: right;\">\n",
       "      <th></th>\n",
       "      <th>eng</th>\n",
       "      <th>hin</th>\n",
       "    </tr>\n",
       "  </thead>\n",
       "  <tbody>\n",
       "    <tr>\n",
       "      <th>0</th>\n",
       "      <td>1</td>\n",
       "      <td>1</td>\n",
       "    </tr>\n",
       "    <tr>\n",
       "      <th>1</th>\n",
       "      <td>1</td>\n",
       "      <td>1</td>\n",
       "    </tr>\n",
       "    <tr>\n",
       "      <th>2</th>\n",
       "      <td>1</td>\n",
       "      <td>1</td>\n",
       "    </tr>\n",
       "    <tr>\n",
       "      <th>3</th>\n",
       "      <td>1</td>\n",
       "      <td>1</td>\n",
       "    </tr>\n",
       "    <tr>\n",
       "      <th>4</th>\n",
       "      <td>1</td>\n",
       "      <td>1</td>\n",
       "    </tr>\n",
       "    <tr>\n",
       "      <th>...</th>\n",
       "      <td>...</td>\n",
       "      <td>...</td>\n",
       "    </tr>\n",
       "    <tr>\n",
       "      <th>2769</th>\n",
       "      <td>17</td>\n",
       "      <td>16</td>\n",
       "    </tr>\n",
       "    <tr>\n",
       "      <th>2770</th>\n",
       "      <td>14</td>\n",
       "      <td>13</td>\n",
       "    </tr>\n",
       "    <tr>\n",
       "      <th>2771</th>\n",
       "      <td>15</td>\n",
       "      <td>18</td>\n",
       "    </tr>\n",
       "    <tr>\n",
       "      <th>2772</th>\n",
       "      <td>18</td>\n",
       "      <td>17</td>\n",
       "    </tr>\n",
       "    <tr>\n",
       "      <th>2773</th>\n",
       "      <td>22</td>\n",
       "      <td>25</td>\n",
       "    </tr>\n",
       "  </tbody>\n",
       "</table>\n",
       "<p>2774 rows × 2 columns</p>\n",
       "</div>"
      ],
      "text/plain": [
       "      eng  hin\n",
       "0       1    1\n",
       "1       1    1\n",
       "2       1    1\n",
       "3       1    1\n",
       "4       1    1\n",
       "...   ...  ...\n",
       "2769   17   16\n",
       "2770   14   13\n",
       "2771   15   18\n",
       "2772   18   17\n",
       "2773   22   25\n",
       "\n",
       "[2774 rows x 2 columns]"
      ]
     },
     "execution_count": 17,
     "metadata": {},
     "output_type": "execute_result"
    }
   ],
   "source": [
    "length_df "
   ]
  },
  {
   "cell_type": "code",
   "execution_count": 18,
   "metadata": {},
   "outputs": [],
   "source": [
    "def tokenization(lines):\n",
    "    tokenizer = Tokenizer()\n",
    "    tokenizer.fit_on_texts(lines)\n",
    "    return tokenizer"
   ]
  },
  {
   "cell_type": "code",
   "execution_count": 19,
   "metadata": {},
   "outputs": [
    {
     "name": "stdout",
     "output_type": "stream",
     "text": [
      "English Vocabulary Size: 2370\n"
     ]
    }
   ],
   "source": [
    "eng_tokenizer = tokenization(df[:, 0])\n",
    "eng_vocab_size = len(eng_tokenizer.word_index) + 1\n",
    "\n",
    "eng_length = 22\n",
    "print('English Vocabulary Size: %d' % eng_vocab_size)"
   ]
  },
  {
   "cell_type": "code",
   "execution_count": 34,
   "metadata": {},
   "outputs": [
    {
     "name": "stdout",
     "output_type": "stream",
     "text": [
      "Hindi Vocabulary Size: 2980\n"
     ]
    }
   ],
   "source": [
    "hindi_tokenizer = tokenization(df[:, 1])\n",
    "hindi_vocab_size = len(hindi_tokenizer.word_index) + 1\n",
    "\n",
    "hindi_length = 22\n",
    "print('Hindi Vocabulary Size: %d' % hindi_vocab_size)"
   ]
  },
  {
   "cell_type": "code",
   "execution_count": 35,
   "metadata": {},
   "outputs": [],
   "source": [
    "def encode_sequences(tokenizer, length, lines):\n",
    "    seq = tokenizer.texts_to_sequences(lines)\n",
    "    seq = pad_sequences(seq, maxlen=length, padding='post')\n",
    "    return seq"
   ]
  },
  {
   "cell_type": "code",
   "execution_count": 36,
   "metadata": {},
   "outputs": [],
   "source": [
    "from sklearn.model_selection import train_test_split\n",
    "\n",
    "train,val = train_test_split(df, test_size=0.2, random_state = 15)"
   ]
  },
  {
   "cell_type": "code",
   "execution_count": 37,
   "metadata": {},
   "outputs": [
    {
     "data": {
      "text/plain": [
       "array([['theres no use trying to persuade him',\n",
       "        'उसको मनाने की कोशिश करने में कोई फ़ायदा नहीं है।'],\n",
       "       ['i advise you not to borrow money from your friends',\n",
       "        'मेरी तुम्हारे लिए यह सलाह है कि अपने दोस्तों से पैसे उधार मत लो।'],\n",
       "       ['they live in a little village in england',\n",
       "        'वे इंग्लैंड के एक छोटे से गाँव में रहते हैं।'],\n",
       "       ...,\n",
       "       ['he is always complaining about his boss',\n",
       "        'वह हमेशा अपने बॉस की शिकायत करता रहता है।'],\n",
       "       ['because of his advice i was able to succeed',\n",
       "        'मैं उसकी सलाह की वजह से कामयाब हो गया।'],\n",
       "       ['when will you be back it all depends on the weather',\n",
       "        'कब वापस आओगे यह तो मौसम देख कर पता चलेगा।']], dtype='<U121')"
      ]
     },
     "execution_count": 37,
     "metadata": {},
     "output_type": "execute_result"
    }
   ],
   "source": [
    "train"
   ]
  },
  {
   "cell_type": "code",
   "execution_count": 38,
   "metadata": {},
   "outputs": [],
   "source": [
    "train_X = encode_sequences(eng_tokenizer, eng_length, train[:, 0])\n",
    "train_y = encode_sequences(hindi_tokenizer, hindi_length, train[:, 1])\n",
    "\n",
    "val_X = encode_sequences(eng_tokenizer, eng_length, val[:, 0])\n",
    "val_y = encode_sequences(hindi_tokenizer, hindi_length, val[:, 1])"
   ]
  },
  {
   "cell_type": "code",
   "execution_count": 39,
   "metadata": {},
   "outputs": [
    {
     "data": {
      "text/plain": [
       "(555, 22)"
      ]
     },
     "execution_count": 39,
     "metadata": {},
     "output_type": "execute_result"
    }
   ],
   "source": [
    "val_X.shape"
   ]
  },
  {
   "cell_type": "code",
   "execution_count": 40,
   "metadata": {},
   "outputs": [
    {
     "data": {
      "text/plain": [
       "(2219, 22)"
      ]
     },
     "execution_count": 40,
     "metadata": {},
     "output_type": "execute_result"
    }
   ],
   "source": [
    "train_X.shape"
   ]
  },
  {
   "cell_type": "code",
   "execution_count": 41,
   "metadata": {},
   "outputs": [
    {
     "data": {
      "text/plain": [
       "(555, 22)"
      ]
     },
     "execution_count": 41,
     "metadata": {},
     "output_type": "execute_result"
    }
   ],
   "source": [
    "val_y.shape"
   ]
  },
  {
   "cell_type": "code",
   "execution_count": 42,
   "metadata": {},
   "outputs": [
    {
     "data": {
      "text/plain": [
       "(2219, 22)"
      ]
     },
     "execution_count": 42,
     "metadata": {},
     "output_type": "execute_result"
    }
   ],
   "source": [
    "train_y.shape"
   ]
  },
  {
   "cell_type": "code",
   "execution_count": 43,
   "metadata": {},
   "outputs": [],
   "source": [
    "def define_model(in_vocab,out_vocab, in_timesteps,out_timesteps,units):\n",
    "    model = Sequential()\n",
    "    model.add(Embedding(in_vocab, units, input_length=in_timesteps, mask_zero=True))\n",
    "    model.add(LSTM(units))\n",
    "    model.add(RepeatVector(out_timesteps))\n",
    "    model.add(LSTM(units, return_sequences=True))\n",
    "    model.add(Dense(out_vocab, activation='softmax'))\n",
    "    return model"
   ]
  },
  {
   "cell_type": "code",
   "execution_count": 44,
   "metadata": {},
   "outputs": [],
   "source": [
    "model = define_model(eng_vocab_size, hindi_vocab_size, eng_length, hindi_length, 512)"
   ]
  },
  {
   "cell_type": "code",
   "execution_count": 45,
   "metadata": {},
   "outputs": [],
   "source": [
    "rms = optimizers.RMSprop(lr=0.001)\n",
    "model.compile(optimizer=rms, loss='sparse_categorical_crossentropy')"
   ]
  },
  {
   "cell_type": "code",
   "execution_count": 46,
   "metadata": {},
   "outputs": [
    {
     "name": "stdout",
     "output_type": "stream",
     "text": [
      "Epoch 1/50\n",
      "4/4 [==============================] - ETA: 0s - loss: 6.3777\n",
      "Epoch 00001: val_loss improved from inf to 2.66181, saving model to model.final\n",
      "WARNING:tensorflow:From C:\\Users\\user\\AppData\\Roaming\\Python\\Python37\\site-packages\\tensorflow\\python\\training\\tracking\\tracking.py:111: Model.state_updates (from tensorflow.python.keras.engine.training) is deprecated and will be removed in a future version.\n",
      "Instructions for updating:\n",
      "This property should not be used in TensorFlow 2.0, as updates are applied automatically.\n",
      "WARNING:tensorflow:From C:\\Users\\user\\AppData\\Roaming\\Python\\Python37\\site-packages\\tensorflow\\python\\training\\tracking\\tracking.py:111: Layer.updates (from tensorflow.python.keras.engine.base_layer) is deprecated and will be removed in a future version.\n",
      "Instructions for updating:\n",
      "This property should not be used in TensorFlow 2.0, as updates are applied automatically.\n",
      "INFO:tensorflow:Assets written to: model.final\\assets\n",
      "4/4 [==============================] - 79s 20s/step - loss: 6.3777 - val_loss: 2.6618\n",
      "Epoch 2/50\n",
      "4/4 [==============================] - ETA: 0s - loss: 2.5632\n",
      "Epoch 00002: val_loss improved from 2.66181 to 2.50967, saving model to model.final\n",
      "INFO:tensorflow:Assets written to: model.final\\assets\n",
      "4/4 [==============================] - 80s 20s/step - loss: 2.5632 - val_loss: 2.5097\n",
      "Epoch 3/50\n",
      "4/4 [==============================] - ETA: 0s - loss: 2.4802\n",
      "Epoch 00003: val_loss improved from 2.50967 to 2.39035, saving model to model.final\n",
      "INFO:tensorflow:Assets written to: model.final\\assets\n",
      "4/4 [==============================] - 74s 18s/step - loss: 2.4802 - val_loss: 2.3903\n",
      "Epoch 4/50\n",
      "4/4 [==============================] - ETA: 0s - loss: 2.4430\n",
      "Epoch 00004: val_loss did not improve from 2.39035\n",
      "4/4 [==============================] - 17s 4s/step - loss: 2.4430 - val_loss: 2.4906\n",
      "Epoch 5/50\n",
      "4/4 [==============================] - ETA: 0s - loss: 2.4036\n",
      "Epoch 00005: val_loss did not improve from 2.39035\n",
      "4/4 [==============================] - 17s 4s/step - loss: 2.4036 - val_loss: 2.4245\n",
      "Epoch 6/50\n",
      "4/4 [==============================] - ETA: 0s - loss: 2.3111\n",
      "Epoch 00006: val_loss did not improve from 2.39035\n",
      "4/4 [==============================] - 17s 4s/step - loss: 2.3111 - val_loss: 2.4057\n",
      "Epoch 7/50\n",
      "4/4 [==============================] - ETA: 0s - loss: 2.3115\n",
      "Epoch 00007: val_loss improved from 2.39035 to 2.25789, saving model to model.final\n",
      "INFO:tensorflow:Assets written to: model.final\\assets\n",
      "4/4 [==============================] - 73s 18s/step - loss: 2.3115 - val_loss: 2.2579\n",
      "Epoch 8/50\n",
      "4/4 [==============================] - ETA: 0s - loss: 2.4348\n",
      "Epoch 00008: val_loss did not improve from 2.25789\n",
      "4/4 [==============================] - 16s 4s/step - loss: 2.4348 - val_loss: 2.4181\n",
      "Epoch 9/50\n",
      "4/4 [==============================] - ETA: 0s - loss: 2.2625\n",
      "Epoch 00009: val_loss did not improve from 2.25789\n",
      "4/4 [==============================] - 17s 4s/step - loss: 2.2625 - val_loss: 2.3333\n",
      "Epoch 10/50\n",
      "4/4 [==============================] - ETA: 0s - loss: 2.2199\n",
      "Epoch 00010: val_loss did not improve from 2.25789\n",
      "4/4 [==============================] - 17s 4s/step - loss: 2.2199 - val_loss: 2.2618\n",
      "Epoch 11/50\n",
      "4/4 [==============================] - ETA: 0s - loss: 2.1068\n",
      "Epoch 00011: val_loss improved from 2.25789 to 2.23413, saving model to model.final\n",
      "INFO:tensorflow:Assets written to: model.final\\assets\n",
      "4/4 [==============================] - 78s 19s/step - loss: 2.1068 - val_loss: 2.2341\n",
      "Epoch 12/50\n",
      "4/4 [==============================] - ETA: 0s - loss: 2.2641\n",
      "Epoch 00012: val_loss did not improve from 2.23413\n",
      "4/4 [==============================] - 19s 5s/step - loss: 2.2641 - val_loss: 2.2830\n",
      "Epoch 13/50\n",
      "4/4 [==============================] - ETA: 0s - loss: 2.0837\n",
      "Epoch 00013: val_loss improved from 2.23413 to 2.22698, saving model to model.final\n",
      "INFO:tensorflow:Assets written to: model.final\\assets\n",
      "4/4 [==============================] - 92s 23s/step - loss: 2.0837 - val_loss: 2.2270\n",
      "Epoch 14/50\n",
      "4/4 [==============================] - ETA: 0s - loss: 2.1118\n",
      "Epoch 00014: val_loss did not improve from 2.22698\n",
      "4/4 [==============================] - 17s 4s/step - loss: 2.1118 - val_loss: 2.2879\n",
      "Epoch 15/50\n",
      "4/4 [==============================] - ETA: 0s - loss: 2.1021\n",
      "Epoch 00015: val_loss did not improve from 2.22698\n",
      "4/4 [==============================] - 18s 4s/step - loss: 2.1021 - val_loss: 2.2573\n",
      "Epoch 16/50\n",
      "4/4 [==============================] - ETA: 0s - loss: 2.0756\n",
      "Epoch 00016: val_loss did not improve from 2.22698\n",
      "4/4 [==============================] - 19s 5s/step - loss: 2.0756 - val_loss: 2.3536\n",
      "Epoch 17/50\n",
      "4/4 [==============================] - ETA: 0s - loss: 2.0497\n",
      "Epoch 00017: val_loss did not improve from 2.22698\n",
      "4/4 [==============================] - 18s 5s/step - loss: 2.0497 - val_loss: 2.2489\n",
      "Epoch 18/50\n",
      "4/4 [==============================] - ETA: 0s - loss: 2.0880\n",
      "Epoch 00018: val_loss improved from 2.22698 to 2.21673, saving model to model.final\n",
      "INFO:tensorflow:Assets written to: model.final\\assets\n",
      "4/4 [==============================] - 81s 20s/step - loss: 2.0880 - val_loss: 2.2167\n",
      "Epoch 19/50\n",
      "4/4 [==============================] - ETA: 0s - loss: 1.9869\n",
      "Epoch 00019: val_loss did not improve from 2.21673\n",
      "4/4 [==============================] - 18s 5s/step - loss: 1.9869 - val_loss: 2.3917\n",
      "Epoch 20/50\n",
      "4/4 [==============================] - ETA: 0s - loss: 2.0632\n",
      "Epoch 00020: val_loss did not improve from 2.21673\n",
      "4/4 [==============================] - 18s 4s/step - loss: 2.0632 - val_loss: 2.2648\n",
      "Epoch 21/50\n",
      "4/4 [==============================] - ETA: 0s - loss: 2.0254\n",
      "Epoch 00021: val_loss did not improve from 2.21673\n",
      "4/4 [==============================] - 18s 4s/step - loss: 2.0254 - val_loss: 2.2779\n",
      "Epoch 22/50\n",
      "4/4 [==============================] - ETA: 0s - loss: 1.9990\n",
      "Epoch 00022: val_loss did not improve from 2.21673\n",
      "4/4 [==============================] - 18s 5s/step - loss: 1.9990 - val_loss: 2.2542\n",
      "Epoch 23/50\n",
      "4/4 [==============================] - ETA: 0s - loss: 1.9859\n",
      "Epoch 00023: val_loss did not improve from 2.21673\n",
      "4/4 [==============================] - 18s 4s/step - loss: 1.9859 - val_loss: 2.2863\n",
      "Epoch 24/50\n",
      "4/4 [==============================] - ETA: 0s - loss: 1.9643\n",
      "Epoch 00024: val_loss did not improve from 2.21673\n",
      "4/4 [==============================] - 19s 5s/step - loss: 1.9643 - val_loss: 2.3156\n",
      "Epoch 25/50\n",
      "4/4 [==============================] - ETA: 0s - loss: 1.9650\n",
      "Epoch 00025: val_loss did not improve from 2.21673\n",
      "4/4 [==============================] - 19s 5s/step - loss: 1.9650 - val_loss: 2.2853\n",
      "Epoch 26/50\n",
      "4/4 [==============================] - ETA: 0s - loss: 1.9505\n",
      "Epoch 00026: val_loss did not improve from 2.21673\n",
      "4/4 [==============================] - 19s 5s/step - loss: 1.9505 - val_loss: 2.2755\n",
      "Epoch 27/50\n",
      "4/4 [==============================] - ETA: 0s - loss: 1.9486\n",
      "Epoch 00027: val_loss did not improve from 2.21673\n",
      "4/4 [==============================] - 18s 4s/step - loss: 1.9486 - val_loss: 2.2732\n",
      "Epoch 28/50\n",
      "4/4 [==============================] - ETA: 0s - loss: 1.9088\n",
      "Epoch 00028: val_loss did not improve from 2.21673\n",
      "4/4 [==============================] - 18s 5s/step - loss: 1.9088 - val_loss: 2.2864\n",
      "Epoch 29/50\n",
      "4/4 [==============================] - ETA: 0s - loss: 1.9196\n",
      "Epoch 00029: val_loss did not improve from 2.21673\n",
      "4/4 [==============================] - 18s 4s/step - loss: 1.9196 - val_loss: 2.2564\n",
      "Epoch 30/50\n",
      "4/4 [==============================] - ETA: 0s - loss: 1.9309\n",
      "Epoch 00030: val_loss did not improve from 2.21673\n",
      "4/4 [==============================] - 18s 5s/step - loss: 1.9309 - val_loss: 2.2514\n",
      "Epoch 31/50\n",
      "4/4 [==============================] - ETA: 0s - loss: 1.8589\n",
      "Epoch 00031: val_loss did not improve from 2.21673\n",
      "4/4 [==============================] - 20s 5s/step - loss: 1.8589 - val_loss: 2.2415\n",
      "Epoch 32/50\n",
      "4/4 [==============================] - ETA: 0s - loss: 1.9315\n",
      "Epoch 00032: val_loss did not improve from 2.21673\n",
      "4/4 [==============================] - 18s 5s/step - loss: 1.9315 - val_loss: 2.2479\n",
      "Epoch 33/50\n",
      "4/4 [==============================] - ETA: 0s - loss: 1.8507\n",
      "Epoch 00033: val_loss did not improve from 2.21673\n",
      "4/4 [==============================] - 18s 4s/step - loss: 1.8507 - val_loss: 2.2792\n"
     ]
    },
    {
     "name": "stdout",
     "output_type": "stream",
     "text": [
      "Epoch 34/50\n",
      "4/4 [==============================] - ETA: 0s - loss: 1.8826\n",
      "Epoch 00034: val_loss did not improve from 2.21673\n",
      "4/4 [==============================] - 18s 5s/step - loss: 1.8826 - val_loss: 2.2777\n",
      "Epoch 35/50\n",
      "4/4 [==============================] - ETA: 0s - loss: 1.8425\n",
      "Epoch 00035: val_loss did not improve from 2.21673\n",
      "4/4 [==============================] - 19s 5s/step - loss: 1.8425 - val_loss: 2.2979\n",
      "Epoch 36/50\n",
      "4/4 [==============================] - ETA: 0s - loss: 1.8677\n",
      "Epoch 00036: val_loss did not improve from 2.21673\n",
      "4/4 [==============================] - 20s 5s/step - loss: 1.8677 - val_loss: 2.2777\n",
      "Epoch 37/50\n",
      "4/4 [==============================] - ETA: 0s - loss: 1.8432\n",
      "Epoch 00037: val_loss did not improve from 2.21673\n",
      "4/4 [==============================] - 21s 5s/step - loss: 1.8432 - val_loss: 2.2639\n",
      "Epoch 38/50\n",
      "4/4 [==============================] - ETA: 0s - loss: 1.8362\n",
      "Epoch 00038: val_loss did not improve from 2.21673\n",
      "4/4 [==============================] - 21s 5s/step - loss: 1.8362 - val_loss: 2.2682\n",
      "Epoch 39/50\n",
      "4/4 [==============================] - ETA: 0s - loss: 1.8011\n",
      "Epoch 00039: val_loss did not improve from 2.21673\n",
      "4/4 [==============================] - 20s 5s/step - loss: 1.8011 - val_loss: 2.2877\n",
      "Epoch 40/50\n",
      "4/4 [==============================] - ETA: 0s - loss: 1.8567\n",
      "Epoch 00040: val_loss did not improve from 2.21673\n",
      "4/4 [==============================] - 20s 5s/step - loss: 1.8567 - val_loss: 2.2719\n",
      "Epoch 41/50\n",
      "4/4 [==============================] - ETA: 0s - loss: 1.7787\n",
      "Epoch 00041: val_loss did not improve from 2.21673\n",
      "4/4 [==============================] - 20s 5s/step - loss: 1.7787 - val_loss: 2.2919\n",
      "Epoch 42/50\n",
      "4/4 [==============================] - ETA: 0s - loss: 1.8196\n",
      "Epoch 00042: val_loss did not improve from 2.21673\n",
      "4/4 [==============================] - 19s 5s/step - loss: 1.8196 - val_loss: 2.2734\n",
      "Epoch 43/50\n",
      "4/4 [==============================] - ETA: 0s - loss: 1.7710\n",
      "Epoch 00043: val_loss did not improve from 2.21673\n",
      "4/4 [==============================] - 18s 5s/step - loss: 1.7710 - val_loss: 2.2893\n",
      "Epoch 44/50\n",
      "4/4 [==============================] - ETA: 0s - loss: 1.7898\n",
      "Epoch 00044: val_loss did not improve from 2.21673\n",
      "4/4 [==============================] - 18s 5s/step - loss: 1.7898 - val_loss: 2.2971\n",
      "Epoch 45/50\n",
      "4/4 [==============================] - ETA: 0s - loss: 1.7527\n",
      "Epoch 00045: val_loss did not improve from 2.21673\n",
      "4/4 [==============================] - 18s 5s/step - loss: 1.7527 - val_loss: 2.2802\n",
      "Epoch 46/50\n",
      "4/4 [==============================] - ETA: 0s - loss: 1.7711\n",
      "Epoch 00046: val_loss did not improve from 2.21673\n",
      "4/4 [==============================] - 18s 5s/step - loss: 1.7711 - val_loss: 2.3137\n",
      "Epoch 47/50\n",
      "4/4 [==============================] - ETA: 0s - loss: 1.7856\n",
      "Epoch 00047: val_loss did not improve from 2.21673\n",
      "4/4 [==============================] - 18s 4s/step - loss: 1.7856 - val_loss: 2.3171\n",
      "Epoch 48/50\n",
      "4/4 [==============================] - ETA: 0s - loss: 1.7438\n",
      "Epoch 00048: val_loss did not improve from 2.21673\n",
      "4/4 [==============================] - 19s 5s/step - loss: 1.7438 - val_loss: 2.2840\n",
      "Epoch 49/50\n",
      "4/4 [==============================] - ETA: 0s - loss: 1.7269\n",
      "Epoch 00049: val_loss did not improve from 2.21673\n",
      "4/4 [==============================] - 19s 5s/step - loss: 1.7269 - val_loss: 2.3242\n",
      "Epoch 50/50\n",
      "4/4 [==============================] - ETA: 0s - loss: 1.7438\n",
      "Epoch 00050: val_loss did not improve from 2.21673\n",
      "4/4 [==============================] - 18s 5s/step - loss: 1.7438 - val_loss: 2.2852\n"
     ]
    }
   ],
   "source": [
    "filename = 'model.final'\n",
    "checkpoint = ModelCheckpoint(filename, monitor='val_loss', verbose=1, save_best_only=True, mode='min')\n",
    "\n",
    "# train model\n",
    "history=model.fit(train_X, train_y.reshape(train_y.shape[0],train_y.shape[1],1),\n",
    "                    epochs=50, batch_size=512, validation_split=0.2,callbacks=[checkpoint], \n",
    "                    verbose=1)"
   ]
  },
  {
   "cell_type": "code",
   "execution_count": 47,
   "metadata": {},
   "outputs": [
    {
     "data": {
      "image/png": "[encoded data removed]",
      "text/plain": [
       "<Figure size 432x288 with 1 Axes>"
      ]
     },
     "metadata": {
      "needs_background": "light"
     },
     "output_type": "display_data"
    }
   ],
   "source": [
    "plt.plot(history.history['loss'])\n",
    "plt.plot(history.history['val_loss'])\n",
    "plt.legend(['train','validation'])\n",
    "plt.show()"
   ]
  },
  {
   "cell_type": "code",
   "execution_count": 49,
   "metadata": {},
   "outputs": [
    {
     "name": "stdout",
     "output_type": "stream",
     "text": [
      "WARNING:tensorflow:From <ipython-input-49-47e1185d18db>:2: Sequential.predict_classes (from tensorflow.python.keras.engine.sequential) is deprecated and will be removed after 2021-01-01.\n",
      "Instructions for updating:\n",
      "Please use instead:* `np.argmax(model.predict(x), axis=-1)`,   if your model does multi-class classification   (e.g. if it uses a `softmax` last-layer activation).* `(model.predict(x) > 0.5).astype(\"int32\")`,   if your model does binary classification   (e.g. if it uses a `sigmoid` last-layer activation).\n"
     ]
    }
   ],
   "source": [
    "model = load_model('model.final')\n",
    "preds = model.predict_classes(val_X.reshape((val_X.shape[0],val_X.shape[1])))"
   ]
  },
  {
   "cell_type": "code",
   "execution_count": 58,
   "metadata": {},
   "outputs": [
    {
     "data": {
      "text/plain": [
       "15.504504504504505"
      ]
     },
     "execution_count": 58,
     "metadata": {},
     "output_type": "execute_result"
    }
   ],
   "source": [
    "np.sum((preds==val_y)*1)/len(preds)"
   ]
  },
  {
   "cell_type": "code",
   "execution_count": 59,
   "metadata": {},
   "outputs": [
    {
     "data": {
      "text/plain": [
       "(555, 22)"
      ]
     },
     "execution_count": 59,
     "metadata": {},
     "output_type": "execute_result"
    }
   ],
   "source": [
    "preds.shape"
   ]
  },
  {
   "cell_type": "code",
   "execution_count": null,
   "metadata": {},
   "outputs": [],
   "source": []
  }
 ],
 "metadata": {
  "kernelspec": {
   "display_name": "Python 3",
   "language": "python",
   "name": "python3"
  }
 },
 "nbformat": 4,
 "nbformat_minor": 4
}
