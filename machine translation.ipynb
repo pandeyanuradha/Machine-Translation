{
 "cells": [
  {
   "cell_type": "code",
   "execution_count": 1,
   "metadata": {},
   "outputs": [],
   "source": [
    "import string\n",
    "import re\n",
    "import numpy as np\n",
    "import pandas as pd\n",
    "from keras.models import Sequential\n",
    "from keras.layers import Dense, LSTM, Embedding, RepeatVector\n",
    "from keras.preprocessing.text import Tokenizer\n",
    "from keras.callbacks import ModelCheckpoint\n",
    "from keras.preprocessing.sequence import pad_sequences\n",
    "from keras.models import load_model\n",
    "from keras import optimizers\n",
    "import matplotlib.pyplot as plt\n",
    "%matplotlib inline\n",
    "pd.set_option('display.max_colwidth', 200)"
   ]
  },
  {
   "cell_type": "code",
   "execution_count": 2,
   "metadata": {},
   "outputs": [],
   "source": [
    "\"\"\"reading file content\"\"\"\n",
    "def read_text(filename):\n",
    "        file = open(filename, mode='rt', encoding='utf-8')\n",
    "        text = file.read()\n",
    "        file.close()\n",
    "        return text"
   ]
  },
  {
   "cell_type": "code",
   "execution_count": 3,
   "metadata": {},
   "outputs": [],
   "source": [
    "\"\"\"separate into lines\"\"\"\n",
    "def to_lines(text):\n",
    "    sents = text.strip().split('\\n')\n",
    "    sents = [i.split('\\t') for i in sents]\n",
    "    return sents"
   ]
  },
  {
   "cell_type": "code",
   "execution_count": 4,
   "metadata": {},
   "outputs": [],
   "source": [
    "data = read_text(\"hin.txt\")\n",
    "data = to_lines(data)\n",
    "data=np.array(data)"
   ]
  },
  {
   "cell_type": "code",
   "execution_count": 5,
   "metadata": {},
   "outputs": [
    {
     "data": {
      "text/plain": [
       "array([['Wow!', 'वाह!',\n",
       "        'CC-BY 2.0 (France) Attribution: tatoeba.org #52027 (Zifre) & #6179147 (fastrizwaan)'],\n",
       "       ['Help!', 'बचाओ!',\n",
       "        'CC-BY 2.0 (France) Attribution: tatoeba.org #435084 (lukaszpp) & #459377 (minshirui)'],\n",
       "       ['Jump.', 'उछलो.',\n",
       "        'CC-BY 2.0 (France) Attribution: tatoeba.org #631038 (Shishir) & #6179121 (fastrizwaan)']],\n",
       "      dtype='<U121')"
      ]
     },
     "execution_count": 5,
     "metadata": {},
     "output_type": "execute_result"
    }
   ],
   "source": [
    "data[:3]"
   ]
  },
  {
   "cell_type": "code",
   "execution_count": 6,
   "metadata": {},
   "outputs": [],
   "source": [
    "data=data.tolist()"
   ]
  },
  {
   "cell_type": "code",
   "execution_count": 7,
   "metadata": {},
   "outputs": [
    {
     "data": {
      "text/plain": [
       "[['Wow!',\n",
       "  'वाह!',\n",
       "  'CC-BY 2.0 (France) Attribution: tatoeba.org #52027 (Zifre) & #6179147 (fastrizwaan)'],\n",
       " ['Help!',\n",
       "  'बचाओ!',\n",
       "  'CC-BY 2.0 (France) Attribution: tatoeba.org #435084 (lukaszpp) & #459377 (minshirui)'],\n",
       " ['Jump.',\n",
       "  'उछलो.',\n",
       "  'CC-BY 2.0 (France) Attribution: tatoeba.org #631038 (Shishir) & #6179121 (fastrizwaan)']]"
      ]
     },
     "execution_count": 7,
     "metadata": {},
     "output_type": "execute_result"
    }
   ],
   "source": [
    "data[:3]"
   ]
  },
  {
   "cell_type": "code",
   "execution_count": 8,
   "metadata": {},
   "outputs": [],
   "source": [
    "df=[data[i][:2] for i in range(len(data))]"
   ]
  },
  {
   "cell_type": "code",
   "execution_count": 9,
   "metadata": {},
   "outputs": [],
   "source": [
    "df=np.array(df)"
   ]
  },
  {
   "cell_type": "code",
   "execution_count": 10,
   "metadata": {},
   "outputs": [
    {
     "data": {
      "text/plain": [
       "array([['Wow!', 'वाह!'],\n",
       "       ['Help!', 'बचाओ!'],\n",
       "       ['Jump.', 'उछलो.'],\n",
       "       ['Jump.', 'कूदो.'],\n",
       "       ['Jump.', 'छलांग.'],\n",
       "       ['Hello!', 'नमस्ते।'],\n",
       "       ['Hello!', 'नमस्कार।'],\n",
       "       ['Cheers!', 'वाह-वाह!'],\n",
       "       ['Cheers!', 'चियर्स!'],\n",
       "       ['Got it?', 'समझे कि नहीं?']], dtype='<U121')"
      ]
     },
     "execution_count": 10,
     "metadata": {},
     "output_type": "execute_result"
    }
   ],
   "source": [
    "df[:10]"
   ]
  },
  {
   "cell_type": "code",
   "execution_count": 11,
   "metadata": {},
   "outputs": [
    {
     "data": {
      "text/plain": [
       "(2774, 2)"
      ]
     },
     "execution_count": 11,
     "metadata": {},
     "output_type": "execute_result"
    }
   ],
   "source": [
    "df.shape"
   ]
  },
  {
   "cell_type": "code",
   "execution_count": 12,
   "metadata": {},
   "outputs": [
    {
     "data": {
      "text/plain": [
       "array(['Wow!', 'Help!', 'Jump.', ...,\n",
       "       'Democracy is the worst form of government, except all the others that have been tried.',\n",
       "       'If my boy had not been killed in the traffic accident, he would be a college student now.',\n",
       "       \"When I was a kid, touching bugs didn't bother me a bit. Now I can hardly stand looking at pictures of them.\"],\n",
       "      dtype='<U121')"
      ]
     },
     "execution_count": 12,
     "metadata": {},
     "output_type": "execute_result"
    }
   ],
   "source": [
    "df[:,0]"
   ]
  },
  {
   "cell_type": "code",
   "execution_count": 13,
   "metadata": {},
   "outputs": [
    {
     "data": {
      "text/plain": [
       "array(['वाह!', 'बचाओ!', 'उछलो.', ...,\n",
       "       'लोकतंत्र सरकार का सबसे घिनौना रूप है, अगर बाकी सारी तरह की सरकारों को अंदेखा किया जाए तो।',\n",
       "       'अगर मेरा बेटा ट्रेफ़िक हादसे में नहीं मारा गया होता, तो वह अभी कॉलेज जा रहा होता।',\n",
       "       'जब मैं बच्चा था, मुझे कीड़ों को छूने से कोई परेशानी नहीं होती थी, पर अब मैं उनकी तस्वीरें देखना भी बर्दाश्त नहीं कर सकता।'],\n",
       "      dtype='<U121')"
      ]
     },
     "execution_count": 13,
     "metadata": {},
     "output_type": "execute_result"
    }
   ],
   "source": [
    "df[:,1]"
   ]
  },
  {
   "cell_type": "code",
   "execution_count": 14,
   "metadata": {},
   "outputs": [],
   "source": [
    "df[:,0] = [s.translate(str.maketrans('', '', string.punctuation)) for s in df[:,0]]\n",
    "df[:,1] = [s.translate(str.maketrans('', '', string.punctuation)) for s in df[:,1]]"
   ]
  },
  {
   "cell_type": "code",
   "execution_count": 15,
   "metadata": {},
   "outputs": [
    {
     "data": {
      "text/plain": [
       "array([['Wow', 'वाह'],\n",
       "       ['Help', 'बचाओ'],\n",
       "       ['Jump', 'उछलो'],\n",
       "       ['Jump', 'कूदो'],\n",
       "       ['Jump', 'छलांग'],\n",
       "       ['Hello', 'नमस्ते।'],\n",
       "       ['Hello', 'नमस्कार।'],\n",
       "       ['Cheers', 'वाहवाह'],\n",
       "       ['Cheers', 'चियर्स'],\n",
       "       ['Got it', 'समझे कि नहीं']], dtype='<U121')"
      ]
     },
     "execution_count": 15,
     "metadata": {},
     "output_type": "execute_result"
    }
   ],
   "source": [
    "df[:10]"
   ]
  },
  {
   "cell_type": "code",
   "execution_count": 16,
   "metadata": {},
   "outputs": [],
   "source": [
    "for i in range(len(df)):\n",
    "    df[i,0] = df[i,0].lower()"
   ]
  },
  {
   "cell_type": "code",
   "execution_count": 17,
   "metadata": {},
   "outputs": [
    {
     "data": {
      "text/plain": [
       "array([['wow', 'वाह'],\n",
       "       ['help', 'बचाओ'],\n",
       "       ['jump', 'उछलो'],\n",
       "       ['jump', 'कूदो'],\n",
       "       ['jump', 'छलांग'],\n",
       "       ['hello', 'नमस्ते।'],\n",
       "       ['hello', 'नमस्कार।'],\n",
       "       ['cheers', 'वाहवाह'],\n",
       "       ['cheers', 'चियर्स'],\n",
       "       ['got it', 'समझे कि नहीं']], dtype='<U121')"
      ]
     },
     "execution_count": 17,
     "metadata": {},
     "output_type": "execute_result"
    }
   ],
   "source": [
    "df[:10]"
   ]
  },
  {
   "cell_type": "code",
   "execution_count": 18,
   "metadata": {},
   "outputs": [
    {
     "data": {
      "image/png": "[encoded data removed]",
      "text/plain": [
       "<Figure size 432x288 with 2 Axes>"
      ]
     },
     "metadata": {
      "needs_background": "light"
     },
     "output_type": "display_data"
    }
   ],
   "source": [
    "engl = []\n",
    "hindi = []\n",
    "\n",
    "# populate the lists with sentence lengths\n",
    "for i in df[:,0]:\n",
    "      engl.append(len(i.split()))\n",
    "\n",
    "for i in df[:,1]:\n",
    "      hindi.append(len(i.split()))\n",
    "\n",
    "length_df = pd.DataFrame({'eng':engl, 'hin':hindi})\n",
    "\n",
    "length_df.hist(bins = 30)\n",
    "plt.show()"
   ]
  },
  {
   "cell_type": "code",
   "execution_count": 19,
   "metadata": {},
   "outputs": [
    {
     "data": {
      "text/html": [
       "<div>\n",
       "<style scoped>\n",
       "    .dataframe tbody tr th:only-of-type {\n",
       "        vertical-align: middle;\n",
       "    }\n",
       "\n",
       "    .dataframe tbody tr th {\n",
       "        vertical-align: top;\n",
       "    }\n",
       "\n",
       "    .dataframe thead th {\n",
       "        text-align: right;\n",
       "    }\n",
       "</style>\n",
       "<table border=\"1\" class=\"dataframe\">\n",
       "  <thead>\n",
       "    <tr style=\"text-align: right;\">\n",
       "      <th></th>\n",
       "      <th>eng</th>\n",
       "      <th>hin</th>\n",
       "    </tr>\n",
       "  </thead>\n",
       "  <tbody>\n",
       "    <tr>\n",
       "      <th>0</th>\n",
       "      <td>1</td>\n",
       "      <td>1</td>\n",
       "    </tr>\n",
       "    <tr>\n",
       "      <th>1</th>\n",
       "      <td>1</td>\n",
       "      <td>1</td>\n",
       "    </tr>\n",
       "    <tr>\n",
       "      <th>2</th>\n",
       "      <td>1</td>\n",
       "      <td>1</td>\n",
       "    </tr>\n",
       "    <tr>\n",
       "      <th>3</th>\n",
       "      <td>1</td>\n",
       "      <td>1</td>\n",
       "    </tr>\n",
       "    <tr>\n",
       "      <th>4</th>\n",
       "      <td>1</td>\n",
       "      <td>1</td>\n",
       "    </tr>\n",
       "    <tr>\n",
       "      <th>...</th>\n",
       "      <td>...</td>\n",
       "      <td>...</td>\n",
       "    </tr>\n",
       "    <tr>\n",
       "      <th>2769</th>\n",
       "      <td>17</td>\n",
       "      <td>16</td>\n",
       "    </tr>\n",
       "    <tr>\n",
       "      <th>2770</th>\n",
       "      <td>14</td>\n",
       "      <td>13</td>\n",
       "    </tr>\n",
       "    <tr>\n",
       "      <th>2771</th>\n",
       "      <td>15</td>\n",
       "      <td>18</td>\n",
       "    </tr>\n",
       "    <tr>\n",
       "      <th>2772</th>\n",
       "      <td>18</td>\n",
       "      <td>17</td>\n",
       "    </tr>\n",
       "    <tr>\n",
       "      <th>2773</th>\n",
       "      <td>22</td>\n",
       "      <td>25</td>\n",
       "    </tr>\n",
       "  </tbody>\n",
       "</table>\n",
       "<p>2774 rows × 2 columns</p>\n",
       "</div>"
      ],
      "text/plain": [
       "      eng  hin\n",
       "0       1    1\n",
       "1       1    1\n",
       "2       1    1\n",
       "3       1    1\n",
       "4       1    1\n",
       "...   ...  ...\n",
       "2769   17   16\n",
       "2770   14   13\n",
       "2771   15   18\n",
       "2772   18   17\n",
       "2773   22   25\n",
       "\n",
       "[2774 rows x 2 columns]"
      ]
     },
     "execution_count": 19,
     "metadata": {},
     "output_type": "execute_result"
    }
   ],
   "source": [
    "length_df "
   ]
  },
  {
   "cell_type": "code",
   "execution_count": 20,
   "metadata": {},
   "outputs": [],
   "source": [
    "def tokenization(lines):\n",
    "    tokenizer = Tokenizer()\n",
    "    tokenizer.fit_on_texts(lines)\n",
    "    return tokenizer"
   ]
  },
  {
   "cell_type": "code",
   "execution_count": 21,
   "metadata": {},
   "outputs": [
    {
     "name": "stdout",
     "output_type": "stream",
     "text": [
      "English Vocabulary Size: 2370\n"
     ]
    }
   ],
   "source": [
    "eng_tokenizer = tokenization(df[:, 0])\n",
    "eng_vocab_size = len(eng_tokenizer.word_index) + 1\n",
    "\n",
    "eng_length = 22\n",
    "print('English Vocabulary Size: %d' % eng_vocab_size)"
   ]
  },
  {
   "cell_type": "code",
   "execution_count": 22,
   "metadata": {},
   "outputs": [
    {
     "name": "stdout",
     "output_type": "stream",
     "text": [
      "Hindi Vocabulary Size: 2980\n"
     ]
    }
   ],
   "source": [
    "hindi_tokenizer = tokenization(df[:, 1])\n",
    "hindi_vocab_size = len(hindi_tokenizer.word_index) + 1\n",
    "\n",
    "hindi_length = 22\n",
    "print('Hindi Vocabulary Size: %d' % hindi_vocab_size)"
   ]
  },
  {
   "cell_type": "code",
   "execution_count": 23,
   "metadata": {},
   "outputs": [],
   "source": [
    "def encode_sequences(tokenizer, length, lines):\n",
    "    seq = tokenizer.texts_to_sequences(lines)\n",
    "    seq = pad_sequences(seq, maxlen=length, padding='post')\n",
    "    return seq"
   ]
  },
  {
   "cell_type": "code",
   "execution_count": 24,
   "metadata": {},
   "outputs": [],
   "source": [
    "from sklearn.model_selection import train_test_split\n",
    "\n",
    "train,val = train_test_split(df, test_size=0.2, random_state = 15)"
   ]
  },
  {
   "cell_type": "code",
   "execution_count": 25,
   "metadata": {},
   "outputs": [
    {
     "data": {
      "text/plain": [
       "array([['theres no use trying to persuade him',\n",
       "        'उसको मनाने की कोशिश करने में कोई फ़ायदा नहीं है।'],\n",
       "       ['i advise you not to borrow money from your friends',\n",
       "        'मेरी तुम्हारे लिए यह सलाह है कि अपने दोस्तों से पैसे उधार मत लो।'],\n",
       "       ['they live in a little village in england',\n",
       "        'वे इंग्लैंड के एक छोटे से गाँव में रहते हैं।'],\n",
       "       ...,\n",
       "       ['he is always complaining about his boss',\n",
       "        'वह हमेशा अपने बॉस की शिकायत करता रहता है।'],\n",
       "       ['because of his advice i was able to succeed',\n",
       "        'मैं उसकी सलाह की वजह से कामयाब हो गया।'],\n",
       "       ['when will you be back it all depends on the weather',\n",
       "        'कब वापस आओगे यह तो मौसम देख कर पता चलेगा।']], dtype='<U121')"
      ]
     },
     "execution_count": 25,
     "metadata": {},
     "output_type": "execute_result"
    }
   ],
   "source": [
    "train"
   ]
  },
  {
   "cell_type": "code",
   "execution_count": 26,
   "metadata": {},
   "outputs": [],
   "source": [
    "train_X = encode_sequences(eng_tokenizer, eng_length, train[:, 0])\n",
    "train_y = encode_sequences(hindi_tokenizer, hindi_length, train[:, 1])\n",
    "\n",
    "val_X = encode_sequences(eng_tokenizer, eng_length, val[:, 0])\n",
    "val_y = encode_sequences(hindi_tokenizer, hindi_length, val[:, 1])"
   ]
  },
  {
   "cell_type": "code",
   "execution_count": 27,
   "metadata": {},
   "outputs": [
    {
     "data": {
      "text/plain": [
       "array([[661,  62, 167, ...,   0,   0,   0],\n",
       "       [  2, 801,   4, ...,   0,   0,   0],\n",
       "       [ 46,  91,   9, ...,   0,   0,   0],\n",
       "       ...,\n",
       "       [  7,   5, 135, ...,   0,   0,   0],\n",
       "       [171,   8,  21, ...,   0,   0,   0],\n",
       "       [ 57,  23,   4, ...,   0,   0,   0]])"
      ]
     },
     "execution_count": 27,
     "metadata": {},
     "output_type": "execute_result"
    }
   ],
   "source": [
    "train_X"
   ]
  },
  {
   "cell_type": "code",
   "execution_count": 28,
   "metadata": {},
   "outputs": [
    {
     "data": {
      "text/plain": [
       "array([[  68, 2430,   13, ...,    0,    0,    0],\n",
       "       [  33,   49,   25, ...,    0,    0,    0],\n",
       "       [  93,  957,    7, ...,    0,    0,    0],\n",
       "       ...,\n",
       "       [   5,  155,   34, ...,    0,    0,    0],\n",
       "       [   4,   50,  374, ...,    0,    0,    0],\n",
       "       [ 212,  133,  530, ...,    0,    0,    0]])"
      ]
     },
     "execution_count": 28,
     "metadata": {},
     "output_type": "execute_result"
    }
   ],
   "source": [
    "train_y"
   ]
  },
  {
   "cell_type": "code",
   "execution_count": 29,
   "metadata": {},
   "outputs": [
    {
     "data": {
      "text/plain": [
       "(555, 22)"
      ]
     },
     "execution_count": 29,
     "metadata": {},
     "output_type": "execute_result"
    }
   ],
   "source": [
    "val_X.shape"
   ]
  },
  {
   "cell_type": "code",
   "execution_count": 30,
   "metadata": {},
   "outputs": [
    {
     "data": {
      "text/plain": [
       "(2219, 22)"
      ]
     },
     "execution_count": 30,
     "metadata": {},
     "output_type": "execute_result"
    }
   ],
   "source": [
    "train_X.shape"
   ]
  },
  {
   "cell_type": "code",
   "execution_count": 31,
   "metadata": {},
   "outputs": [
    {
     "data": {
      "text/plain": [
       "(555, 22)"
      ]
     },
     "execution_count": 31,
     "metadata": {},
     "output_type": "execute_result"
    }
   ],
   "source": [
    "val_y.shape"
   ]
  },
  {
   "cell_type": "code",
   "execution_count": 32,
   "metadata": {},
   "outputs": [
    {
     "data": {
      "text/plain": [
       "(2219, 22)"
      ]
     },
     "execution_count": 32,
     "metadata": {},
     "output_type": "execute_result"
    }
   ],
   "source": [
    "train_y.shape"
   ]
  },
  {
   "cell_type": "code",
   "execution_count": 33,
   "metadata": {},
   "outputs": [],
   "source": [
    "def define_model(inp_vocab,out_vocab, inp_timesteps,out_timesteps,units):\n",
    "    model = Sequential()\n",
    "    model.add(Embedding(inp_vocab, units, input_length=inp_timesteps, mask_zero=True))\n",
    "    model.add(LSTM(units))\n",
    "    model.add(RepeatVector(out_timesteps))\n",
    "    model.add(LSTM(units, return_sequences=True))\n",
    "    model.add(Dense(out_vocab, activation='softmax'))\n",
    "    return model"
   ]
  },
  {
   "cell_type": "code",
   "execution_count": 34,
   "metadata": {},
   "outputs": [],
   "source": [
    "model = define_model(eng_vocab_size, hindi_vocab_size, eng_length, hindi_length, 512)"
   ]
  },
  {
   "cell_type": "code",
   "execution_count": 35,
   "metadata": {},
   "outputs": [],
   "source": [
    "rms = optimizers.RMSprop(lr=0.001)\n",
    "model.compile(optimizer=rms, loss='sparse_categorical_crossentropy')"
   ]
  },
  {
   "cell_type": "code",
   "execution_count": 36,
   "metadata": {},
   "outputs": [
    {
     "name": "stdout",
     "output_type": "stream",
     "text": [
      "Epoch 1/50\n",
      "4/4 [==============================] - ETA: 0s - loss: 6.4308\n",
      "Epoch 00001: val_loss improved from inf to 2.66186, saving model to model.final\n",
      "WARNING:tensorflow:From E:\\Anaconda-64\\lib\\site-packages\\tensorflow\\python\\training\\tracking\\tracking.py:111: Model.state_updates (from tensorflow.python.keras.engine.training) is deprecated and will be removed in a future version.\n",
      "Instructions for updating:\n",
      "This property should not be used in TensorFlow 2.0, as updates are applied automatically.\n",
      "WARNING:tensorflow:From E:\\Anaconda-64\\lib\\site-packages\\tensorflow\\python\\training\\tracking\\tracking.py:111: Layer.updates (from tensorflow.python.keras.engine.base_layer) is deprecated and will be removed in a future version.\n",
      "Instructions for updating:\n",
      "This property should not be used in TensorFlow 2.0, as updates are applied automatically.\n",
      "INFO:tensorflow:Assets written to: model.final\\assets\n",
      "4/4 [==============================] - 80s 20s/step - loss: 6.4308 - val_loss: 2.6619\n",
      "Epoch 2/50\n",
      "4/4 [==============================] - ETA: 0s - loss: 2.5682\n",
      "Epoch 00002: val_loss improved from 2.66186 to 2.60198, saving model to model.final\n",
      "INFO:tensorflow:Assets written to: model.final\\assets\n",
      "4/4 [==============================] - 80s 20s/step - loss: 2.5682 - val_loss: 2.6020\n",
      "Epoch 3/50\n",
      "4/4 [==============================] - ETA: 0s - loss: 2.5351\n",
      "Epoch 00003: val_loss improved from 2.60198 to 2.44479, saving model to model.final\n",
      "INFO:tensorflow:Assets written to: model.final\\assets\n",
      "4/4 [==============================] - 82s 20s/step - loss: 2.5351 - val_loss: 2.4448\n",
      "Epoch 4/50\n",
      "4/4 [==============================] - ETA: 0s - loss: 2.3822\n",
      "Epoch 00004: val_loss improved from 2.44479 to 2.41660, saving model to model.final\n",
      "INFO:tensorflow:Assets written to: model.final\\assets\n",
      "4/4 [==============================] - 79s 20s/step - loss: 2.3822 - val_loss: 2.4166\n",
      "Epoch 5/50\n",
      "4/4 [==============================] - ETA: 0s - loss: 2.5033\n",
      "Epoch 00005: val_loss did not improve from 2.41660\n",
      "4/4 [==============================] - 16s 4s/step - loss: 2.5033 - val_loss: 2.4422\n",
      "Epoch 6/50\n",
      "4/4 [==============================] - ETA: 0s - loss: 2.3500\n",
      "Epoch 00006: val_loss improved from 2.41660 to 2.36196, saving model to model.final\n",
      "INFO:tensorflow:Assets written to: model.final\\assets\n",
      "4/4 [==============================] - 85s 21s/step - loss: 2.3500 - val_loss: 2.3620\n",
      "Epoch 7/50\n",
      "4/4 [==============================] - ETA: 0s - loss: 2.2894\n",
      "Epoch 00007: val_loss improved from 2.36196 to 2.32842, saving model to model.final\n",
      "INFO:tensorflow:Assets written to: model.final\\assets\n",
      "4/4 [==============================] - 89s 22s/step - loss: 2.2894 - val_loss: 2.3284\n",
      "Epoch 8/50\n",
      "4/4 [==============================] - ETA: 0s - loss: 2.1951\n",
      "Epoch 00008: val_loss did not improve from 2.32842\n",
      "4/4 [==============================] - 18s 5s/step - loss: 2.1951 - val_loss: 2.4671\n",
      "Epoch 9/50\n",
      "4/4 [==============================] - ETA: 0s - loss: 2.2185\n",
      "Epoch 00009: val_loss did not improve from 2.32842\n",
      "4/4 [==============================] - 21s 5s/step - loss: 2.2185 - val_loss: 2.5416\n",
      "Epoch 10/50\n",
      "4/4 [==============================] - ETA: 0s - loss: 2.2202\n",
      "Epoch 00010: val_loss did not improve from 2.32842\n",
      "4/4 [==============================] - 20s 5s/step - loss: 2.2202 - val_loss: 2.3925\n",
      "Epoch 11/50\n",
      "4/4 [==============================] - ETA: 0s - loss: 2.1704\n",
      "Epoch 00011: val_loss did not improve from 2.32842\n",
      "4/4 [==============================] - 17s 4s/step - loss: 2.1704 - val_loss: 2.3561\n",
      "Epoch 12/50\n",
      "4/4 [==============================] - ETA: 0s - loss: 2.1383\n",
      "Epoch 00012: val_loss did not improve from 2.32842\n",
      "4/4 [==============================] - 19s 5s/step - loss: 2.1383 - val_loss: 2.4041\n",
      "Epoch 13/50\n",
      "4/4 [==============================] - ETA: 0s - loss: 2.1127\n",
      "Epoch 00013: val_loss improved from 2.32842 to 2.31855, saving model to model.final\n",
      "INFO:tensorflow:Assets written to: model.final\\assets\n",
      "4/4 [==============================] - 81s 20s/step - loss: 2.1127 - val_loss: 2.3186\n",
      "Epoch 14/50\n",
      "4/4 [==============================] - ETA: 0s - loss: 2.1171\n",
      "Epoch 00014: val_loss improved from 2.31855 to 2.24751, saving model to model.final\n",
      "INFO:tensorflow:Assets written to: model.final\\assets\n",
      "4/4 [==============================] - 77s 19s/step - loss: 2.1171 - val_loss: 2.2475\n",
      "Epoch 15/50\n",
      "4/4 [==============================] - ETA: 0s - loss: 2.0558\n",
      "Epoch 00015: val_loss did not improve from 2.24751\n",
      "4/4 [==============================] - 16s 4s/step - loss: 2.0558 - val_loss: 2.4263\n",
      "Epoch 16/50\n",
      "4/4 [==============================] - ETA: 0s - loss: 2.0750\n",
      "Epoch 00016: val_loss improved from 2.24751 to 2.20880, saving model to model.final\n",
      "INFO:tensorflow:Assets written to: model.final\\assets\n",
      "4/4 [==============================] - 81s 20s/step - loss: 2.0750 - val_loss: 2.2088\n",
      "Epoch 17/50\n",
      "4/4 [==============================] - ETA: 0s - loss: 2.0860\n",
      "Epoch 00017: val_loss did not improve from 2.20880\n",
      "4/4 [==============================] - 16s 4s/step - loss: 2.0860 - val_loss: 2.3018\n",
      "Epoch 18/50\n",
      "4/4 [==============================] - ETA: 0s - loss: 2.0274\n",
      "Epoch 00018: val_loss did not improve from 2.20880\n",
      "4/4 [==============================] - 17s 4s/step - loss: 2.0274 - val_loss: 2.2657\n",
      "Epoch 19/50\n",
      "4/4 [==============================] - ETA: 0s - loss: 2.0197\n",
      "Epoch 00019: val_loss did not improve from 2.20880\n",
      "4/4 [==============================] - 17s 4s/step - loss: 2.0197 - val_loss: 2.2786\n",
      "Epoch 20/50\n",
      "4/4 [==============================] - ETA: 0s - loss: 1.9978\n",
      "Epoch 00020: val_loss did not improve from 2.20880\n",
      "4/4 [==============================] - 17s 4s/step - loss: 1.9978 - val_loss: 2.2848\n",
      "Epoch 21/50\n",
      "4/4 [==============================] - ETA: 0s - loss: 2.0069\n",
      "Epoch 00021: val_loss improved from 2.20880 to 2.20445, saving model to model.final\n",
      "INFO:tensorflow:Assets written to: model.final\\assets\n",
      "4/4 [==============================] - 79s 20s/step - loss: 2.0069 - val_loss: 2.2045\n",
      "Epoch 22/50\n",
      "4/4 [==============================] - ETA: 0s - loss: 1.9945\n",
      "Epoch 00022: val_loss did not improve from 2.20445\n",
      "4/4 [==============================] - 17s 4s/step - loss: 1.9945 - val_loss: 2.2441\n",
      "Epoch 23/50\n",
      "4/4 [==============================] - ETA: 0s - loss: 1.9549\n",
      "Epoch 00023: val_loss did not improve from 2.20445\n",
      "4/4 [==============================] - 17s 4s/step - loss: 1.9549 - val_loss: 2.2641\n",
      "Epoch 24/50\n",
      "4/4 [==============================] - ETA: 0s - loss: 1.9765\n",
      "Epoch 00024: val_loss did not improve from 2.20445\n",
      "4/4 [==============================] - 17s 4s/step - loss: 1.9765 - val_loss: 2.2214\n",
      "Epoch 25/50\n",
      "4/4 [==============================] - ETA: 0s - loss: 1.9202\n",
      "Epoch 00025: val_loss did not improve from 2.20445\n",
      "4/4 [==============================] - 17s 4s/step - loss: 1.9202 - val_loss: 2.3309\n",
      "Epoch 26/50\n",
      "4/4 [==============================] - ETA: 0s - loss: 1.9486\n",
      "Epoch 00026: val_loss did not improve from 2.20445\n",
      "4/4 [==============================] - 16s 4s/step - loss: 1.9486 - val_loss: 2.2759\n",
      "Epoch 27/50\n",
      "4/4 [==============================] - ETA: 0s - loss: 1.9434\n",
      "Epoch 00027: val_loss did not improve from 2.20445\n",
      "4/4 [==============================] - 17s 4s/step - loss: 1.9434 - val_loss: 2.2454\n",
      "Epoch 28/50\n",
      "4/4 [==============================] - ETA: 0s - loss: 1.9162\n",
      "Epoch 00028: val_loss did not improve from 2.20445\n",
      "4/4 [==============================] - 17s 4s/step - loss: 1.9162 - val_loss: 2.2487\n",
      "Epoch 29/50\n",
      "4/4 [==============================] - ETA: 0s - loss: 1.9286\n",
      "Epoch 00029: val_loss did not improve from 2.20445\n",
      "4/4 [==============================] - 17s 4s/step - loss: 1.9286 - val_loss: 2.2390\n",
      "Epoch 30/50\n",
      "4/4 [==============================] - ETA: 0s - loss: 1.8803\n",
      "Epoch 00030: val_loss did not improve from 2.20445\n",
      "4/4 [==============================] - 17s 4s/step - loss: 1.8803 - val_loss: 2.2274\n",
      "Epoch 31/50\n",
      "4/4 [==============================] - ETA: 0s - loss: 1.9126\n",
      "Epoch 00031: val_loss did not improve from 2.20445\n",
      "4/4 [==============================] - 17s 4s/step - loss: 1.9126 - val_loss: 2.2404\n",
      "Epoch 32/50\n",
      "4/4 [==============================] - ETA: 0s - loss: 1.8543\n",
      "Epoch 00032: val_loss did not improve from 2.20445\n",
      "4/4 [==============================] - 17s 4s/step - loss: 1.8543 - val_loss: 2.2794\n"
     ]
    },
    {
     "name": "stdout",
     "output_type": "stream",
     "text": [
      "Epoch 33/50\n",
      "4/4 [==============================] - ETA: 0s - loss: 1.8951\n",
      "Epoch 00033: val_loss did not improve from 2.20445\n",
      "4/4 [==============================] - 18s 5s/step - loss: 1.8951 - val_loss: 2.2395\n",
      "Epoch 34/50\n",
      "4/4 [==============================] - ETA: 0s - loss: 1.8492\n",
      "Epoch 00034: val_loss did not improve from 2.20445\n",
      "4/4 [==============================] - 17s 4s/step - loss: 1.8492 - val_loss: 2.2997\n",
      "Epoch 35/50\n",
      "4/4 [==============================] - ETA: 0s - loss: 1.8598\n",
      "Epoch 00035: val_loss did not improve from 2.20445\n",
      "4/4 [==============================] - 17s 4s/step - loss: 1.8598 - val_loss: 2.2856\n",
      "Epoch 36/50\n",
      "4/4 [==============================] - ETA: 0s - loss: 1.8323\n",
      "Epoch 00036: val_loss did not improve from 2.20445\n",
      "4/4 [==============================] - 17s 4s/step - loss: 1.8323 - val_loss: 2.3083\n",
      "Epoch 37/50\n",
      "4/4 [==============================] - ETA: 0s - loss: 1.8352\n",
      "Epoch 00037: val_loss did not improve from 2.20445\n",
      "4/4 [==============================] - 17s 4s/step - loss: 1.8352 - val_loss: 2.2782\n",
      "Epoch 38/50\n",
      "4/4 [==============================] - ETA: 0s - loss: 1.8395\n",
      "Epoch 00038: val_loss did not improve from 2.20445\n",
      "4/4 [==============================] - 17s 4s/step - loss: 1.8395 - val_loss: 2.2950\n",
      "Epoch 39/50\n",
      "4/4 [==============================] - ETA: 0s - loss: 1.8031\n",
      "Epoch 00039: val_loss did not improve from 2.20445\n",
      "4/4 [==============================] - 19s 5s/step - loss: 1.8031 - val_loss: 2.2789\n",
      "Epoch 40/50\n",
      "4/4 [==============================] - ETA: 0s - loss: 1.8222\n",
      "Epoch 00040: val_loss did not improve from 2.20445\n",
      "4/4 [==============================] - 18s 5s/step - loss: 1.8222 - val_loss: 2.2952\n",
      "Epoch 41/50\n",
      "4/4 [==============================] - ETA: 0s - loss: 1.7911\n",
      "Epoch 00041: val_loss did not improve from 2.20445\n",
      "4/4 [==============================] - 18s 5s/step - loss: 1.7911 - val_loss: 2.3000\n",
      "Epoch 42/50\n",
      "4/4 [==============================] - ETA: 0s - loss: 1.7877\n",
      "Epoch 00042: val_loss did not improve from 2.20445\n",
      "4/4 [==============================] - 17s 4s/step - loss: 1.7877 - val_loss: 2.3212\n",
      "Epoch 43/50\n",
      "4/4 [==============================] - ETA: 0s - loss: 1.7993\n",
      "Epoch 00043: val_loss did not improve from 2.20445\n",
      "4/4 [==============================] - 17s 4s/step - loss: 1.7993 - val_loss: 2.2713\n",
      "Epoch 44/50\n",
      "4/4 [==============================] - ETA: 0s - loss: 1.7598\n",
      "Epoch 00044: val_loss did not improve from 2.20445\n",
      "4/4 [==============================] - 17s 4s/step - loss: 1.7598 - val_loss: 2.3483\n",
      "Epoch 45/50\n",
      "4/4 [==============================] - ETA: 0s - loss: 1.7690\n",
      "Epoch 00045: val_loss did not improve from 2.20445\n",
      "4/4 [==============================] - 17s 4s/step - loss: 1.7690 - val_loss: 2.2674\n",
      "Epoch 46/50\n",
      "4/4 [==============================] - ETA: 0s - loss: 1.7237\n",
      "Epoch 00046: val_loss did not improve from 2.20445\n",
      "4/4 [==============================] - 17s 4s/step - loss: 1.7237 - val_loss: 2.3486\n",
      "Epoch 47/50\n",
      "4/4 [==============================] - ETA: 0s - loss: 1.7862\n",
      "Epoch 00047: val_loss did not improve from 2.20445\n",
      "4/4 [==============================] - 17s 4s/step - loss: 1.7862 - val_loss: 2.2821\n",
      "Epoch 48/50\n",
      "4/4 [==============================] - ETA: 0s - loss: 1.7163\n",
      "Epoch 00048: val_loss did not improve from 2.20445\n",
      "4/4 [==============================] - 18s 4s/step - loss: 1.7163 - val_loss: 2.3178\n",
      "Epoch 49/50\n",
      "4/4 [==============================] - ETA: 0s - loss: 1.7556\n",
      "Epoch 00049: val_loss did not improve from 2.20445\n",
      "4/4 [==============================] - 19s 5s/step - loss: 1.7556 - val_loss: 2.3022\n",
      "Epoch 50/50\n",
      "4/4 [==============================] - ETA: 0s - loss: 1.7074\n",
      "Epoch 00050: val_loss did not improve from 2.20445\n",
      "4/4 [==============================] - 18s 5s/step - loss: 1.7074 - val_loss: 2.3028\n"
     ]
    }
   ],
   "source": [
    "filename = 'model.final'\n",
    "checkpoint = ModelCheckpoint(filename, monitor='val_loss', verbose=1, save_best_only=True, mode='min')\n",
    "\n",
    "# train model\n",
    "history=model.fit(train_X, train_y.reshape(train_y.shape[0],train_y.shape[1],1),\n",
    "                    epochs=50, batch_size=512, validation_split=0.2,callbacks=[checkpoint], \n",
    "                    verbose=1)"
   ]
  },
  {
   "cell_type": "code",
   "execution_count": 37,
   "metadata": {},
   "outputs": [
    {
     "data": {
      "image/png": "[encoded data removed]",
      "text/plain": [
       "<Figure size 432x288 with 1 Axes>"
      ]
     },
     "metadata": {
      "needs_background": "light"
     },
     "output_type": "display_data"
    }
   ],
   "source": [
    "plt.plot(history.history['loss'])\n",
    "plt.plot(history.history['val_loss'])\n",
    "plt.legend(['train','validation'])\n",
    "plt.show()"
   ]
  },
  {
   "cell_type": "code",
   "execution_count": 38,
   "metadata": {},
   "outputs": [
    {
     "name": "stdout",
     "output_type": "stream",
     "text": [
      "WARNING:tensorflow:From <ipython-input-38-47e1185d18db>:2: Sequential.predict_classes (from tensorflow.python.keras.engine.sequential) is deprecated and will be removed after 2021-01-01.\n",
      "Instructions for updating:\n",
      "Please use instead:* `np.argmax(model.predict(x), axis=-1)`,   if your model does multi-class classification   (e.g. if it uses a `softmax` last-layer activation).* `(model.predict(x) > 0.5).astype(\"int32\")`,   if your model does binary classification   (e.g. if it uses a `sigmoid` last-layer activation).\n"
     ]
    }
   ],
   "source": [
    "model = load_model('model.final')\n",
    "preds = model.predict_classes(val_X.reshape((val_X.shape[0],val_X.shape[1])))"
   ]
  },
  {
   "cell_type": "code",
   "execution_count": 39,
   "metadata": {},
   "outputs": [
    {
     "data": {
      "text/plain": [
       "(555, 22)"
      ]
     },
     "execution_count": 39,
     "metadata": {},
     "output_type": "execute_result"
    }
   ],
   "source": [
    "preds.shape"
   ]
  },
  {
   "cell_type": "markdown",
   "metadata": {},
   "source": [
    "## Future scope "
   ]
  },
  {
   "cell_type": "markdown",
   "metadata": {},
   "source": [
    "- The words are repeating(for english)\n",
    "- Improve accuacy of LSTM\n",
    "- removing stop words, Tf-Idf"
   ]
  }
 ],
 "metadata": {
  "kernelspec": {
   "display_name": "Python 3",
   "language": "python",
   "name": "python3"
  },
  "language_info": {
   "codemirror_mode": {
    "name": "ipython",
    "version": 3
   },
   "file_extension": ".py",
   "mimetype": "text/x-python",
   "name": "python",
   "nbconvert_exporter": "python",
   "pygments_lexer": "ipython3",
   "version": "3.8.3"
  }
 },
 "nbformat": 4,
 "nbformat_minor": 4
}
